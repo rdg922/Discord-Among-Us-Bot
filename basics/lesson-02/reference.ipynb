{
  "nbformat": 4,
  "nbformat_minor": 0,
  "metadata": {
    "colab": {
      "name": "reference.ipynb",
      "provenance": [],
      "toc_visible": true,
      "collapsed_sections": [],
      "include_colab_link": true
    },
    "kernelspec": {
      "name": "python3",
      "display_name": "Python 3"
    },
    "language_info": {
      "name": "python"
    }
  },
  "cells": [
    {
      "cell_type": "markdown",
      "metadata": {
        "id": "view-in-github",
        "colab_type": "text"
      },
      "source": [
        "<a href=\"https://colab.research.google.com/github/rdg922/Discord-Among-Us-Bot/blob/master/basics/lesson-02/reference.ipynb\" target=\"_parent\"><img src=\"https://colab.research.google.com/assets/colab-badge.svg\" alt=\"Open In Colab\"/></a>"
      ]
    },
    {
      "cell_type": "markdown",
      "source": [
        "# Lesson 2: Math Operators, If statements, For loops\n",
        "\n",
        "\n",
        "* More Math Operators\n",
        "  * Modulo and Integer Division\n",
        "* Using if statements\n",
        "\t* Else and else if statements\n",
        "* For loops to repeat code:\n",
        "  * Starting and ending at specific numbers\n",
        "  * Incrementing by numbers other than one\n",
        "  * Nested loops\n"
      ],
      "metadata": {
        "id": "DmF093dVrz4o"
      }
    },
    {
      "cell_type": "markdown",
      "source": [
        "## Math Operators\n",
        "\n",
        "This cell uses the assignment operator (fancy term for an =) to set the variable a equal to the number 5"
      ],
      "metadata": {
        "id": "nLgeG9B9r4gN"
      }
    },
    {
      "cell_type": "code",
      "source": [
        "a = 5"
      ],
      "metadata": {
        "id": "mzmx7ROArzku"
      },
      "execution_count": null,
      "outputs": []
    },
    {
      "cell_type": "markdown",
      "source": [
        "Practice: add one to the variable a"
      ],
      "metadata": {
        "id": "jSUMj8xBwNt-"
      }
    },
    {
      "cell_type": "code",
      "execution_count": null,
      "metadata": {
        "id": "j8lnaYYKro8r"
      },
      "outputs": [],
      "source": [
        "a += 1"
      ]
    },
    {
      "cell_type": "markdown",
      "source": [
        "The math operators are: \n",
        "\n",
        "* += adds\n",
        "* -= subtracts\n",
        "* *= multiplies\n",
        "* /= divides \n",
        "\n",
        "### Modulo (%)\n",
        "\n",
        "The modulo operator gets you the remainder of a division\n",
        "\n",
        "Try it out here:"
      ],
      "metadata": {
        "id": "9_78YLJbwiOn"
      }
    },
    {
      "cell_type": "code",
      "source": [
        "a = 7\n",
        "b = 2\n",
        "print(a / b)\n",
        "print(a % b)"
      ],
      "metadata": {
        "id": "Xx9IU89lxVZ5"
      },
      "execution_count": null,
      "outputs": []
    },
    {
      "cell_type": "markdown",
      "source": [
        "Explanation: 7 / 2 is 3.5, with the remainder of 7 / 2 being 1\n",
        "\n",
        "You can also mod a number and then assign it:"
      ],
      "metadata": {
        "id": "fRYz8RJcxZp1"
      }
    },
    {
      "cell_type": "code",
      "source": [
        "a = 10\n",
        "a %= 3\n",
        "print(a)"
      ],
      "metadata": {
        "id": "oplphy3Dx0MC"
      },
      "execution_count": null,
      "outputs": []
    },
    {
      "cell_type": "markdown",
      "source": [
        "### Integer Division (//)\n",
        "\n",
        "You can divide a number and great no remainder with ```//```"
      ],
      "metadata": {
        "id": "FWPfXG6ox4SV"
      }
    },
    {
      "cell_type": "code",
      "source": [
        "a = 10\n",
        "b = 3\n",
        "a //= b\n",
        "print(a) # a /= b equals to 3 with .3 repeating "
      ],
      "metadata": {
        "id": "l4t_8Rvtx-Qd"
      },
      "execution_count": null,
      "outputs": []
    },
    {
      "cell_type": "markdown",
      "source": [
        "Practice: \n",
        "\n",
        "Divide b by a and set the value to b. Print out b afterwards"
      ],
      "metadata": {
        "id": "C-FPZXxmyKF7"
      }
    },
    {
      "cell_type": "code",
      "source": [
        "b //= a\n",
        "print(b)"
      ],
      "metadata": {
        "id": "WWb_oR2-zIfL"
      },
      "execution_count": null,
      "outputs": []
    },
    {
      "cell_type": "markdown",
      "source": [
        "## If Statements\n",
        "\n",
        "If statements execute code based on a boolean. Look at the example below:"
      ],
      "metadata": {
        "id": "KgM_dOF30wHr"
      }
    },
    {
      "cell_type": "code",
      "source": [
        "a = True\n",
        "if a:\n",
        "  print(\"A is True!\")"
      ],
      "metadata": {
        "id": "njzoEgF51GSx"
      },
      "execution_count": null,
      "outputs": []
    },
    {
      "cell_type": "markdown",
      "source": [
        "Pay attention to the colon after the boolean, and the indentation for the code.\n",
        "\n",
        "**Indentation in python manages control flow**\n",
        "\n",
        "Look at the example below:"
      ],
      "metadata": {
        "id": "0lkKDdYT1OoJ"
      }
    },
    {
      "cell_type": "code",
      "source": [
        "a = False\n",
        "if b:\n",
        "  print(\"This will not run because b is False!\")\n",
        "print(\"This will always run, whether or not b is True or False!\")"
      ],
      "metadata": {
        "id": "7ltagbG_2C9f"
      },
      "execution_count": null,
      "outputs": []
    },
    {
      "cell_type": "markdown",
      "source": [
        "We can also evaluate the boolean inside the if statement:"
      ],
      "metadata": {
        "id": "N9naiLR82JqC"
      }
    },
    {
      "cell_type": "code",
      "source": [
        "a = int(input())\n",
        "if a > 10:\n",
        "  print(\"Your number is greater than 10\")"
      ],
      "metadata": {
        "id": "iebZPbQM2YLb"
      },
      "execution_count": null,
      "outputs": []
    },
    {
      "cell_type": "markdown",
      "source": [
        "Practice: Write an if statement that will print whether your number is less than or equal to 20"
      ],
      "metadata": {
        "id": "5hcN-PVw2c1_"
      }
    },
    {
      "cell_type": "code",
      "source": [
        "if int(2input()) <= 20:\n",
        "  print(\"Your number is less than or equal to 20\")\n",
        "\n",
        "# similar result:\n",
        "\n",
        "your_num = int(input()) \n",
        "if your_num <= 20:\n",
        "  print(\"Your number is less than or equal to 20\")"
      ],
      "metadata": {
        "id": "4OV2mecn2iYW"
      },
      "execution_count": null,
      "outputs": []
    },
    {
      "cell_type": "markdown",
      "source": [
        "### Else Statements\n",
        "\n",
        "You can use an else clause to make code run if a statement is not true"
      ],
      "metadata": {
        "id": "mCzXKQsb2sHY"
      }
    },
    {
      "cell_type": "code",
      "source": [
        "number = int(input())\n",
        "if number < 10:\n",
        "  print(\"Your number is less than ten\")\n",
        "else:\n",
        "  print(\"Your number is greater than ten\")"
      ],
      "metadata": {
        "id": "JhZ5b7-N3MLP"
      },
      "execution_count": null,
      "outputs": []
    },
    {
      "cell_type": "markdown",
      "source": [
        "Do you see a logical issue with the code?\n",
        "\n",
        "<details>\n",
        "  <summary>See the issue</summary>\n",
        "\n",
        "  Try to put the number 10 and look at what the result says\n",
        "</details>\n",
        "\n",
        "We can fix this issue with elif statements, we'll see this example later though."
      ],
      "metadata": {
        "id": "sa3AiUjQ3Tpw"
      }
    },
    {
      "cell_type": "markdown",
      "source": [
        "### Elif Statements\n",
        "\n",
        "Elif or Else if statments can execute code if the original boolean expression isn't true "
      ],
      "metadata": {
        "id": "ckQ_uOWg4STa"
      }
    },
    {
      "cell_type": "code",
      "source": [
        "a = 15 # Play with this value\n",
        "if a > 10:\n",
        "  print(\"a is greater than 10\")\n",
        "elif a < 5:\n",
        "  print(\"a is less than 5\")\n",
        "print(\"This will still print no matter what\")"
      ],
      "metadata": {
        "id": "8at5W9Hy4Ab6"
      },
      "execution_count": null,
      "outputs": []
    },
    {
      "cell_type": "markdown",
      "source": [
        "Elif statements only run if the if and elif statements above aren't true:"
      ],
      "metadata": {
        "id": "fIuYK0z95sXO"
      }
    },
    {
      "cell_type": "code",
      "source": [
        "a = 10\n",
        "\n",
        "if a > 10:\n",
        "  print(\"a is greater than 10\")\n",
        "elif a > 9:\n",
        "  print(\"a is greater than 9\")\n",
        "elif a > 8:\n",
        "  print(\"a is greater than 8\")"
      ],
      "metadata": {
        "id": "YKWkwqfo5xGQ"
      },
      "execution_count": null,
      "outputs": []
    },
    {
      "cell_type": "markdown",
      "source": [
        "Notice how only \"a is greater than 9\" is printed?\n",
        "\n",
        "You can also use else statments with elif statements. Try this out:"
      ],
      "metadata": {
        "id": "OXfJorMn56cE"
      }
    },
    {
      "cell_type": "code",
      "source": [
        "number = int(input())\n",
        "if number < 10:\n",
        "  print(\"Your number is less than ten\")\n",
        "elif number == 10:\n",
        "  print(\"Your number is equal to ten\")\n",
        "else:\n",
        "  print(\"Your number is greater than ten\")\n"
      ],
      "metadata": {
        "id": "3w_zwfDL5ZEl"
      },
      "execution_count": null,
      "outputs": []
    },
    {
      "cell_type": "markdown",
      "source": [
        "Practice: Take in an integer using input() and print whether the number is greater than 10, less than 5 or between the two values "
      ],
      "metadata": {
        "id": "AP1ad37O6ago"
      }
    },
    {
      "cell_type": "code",
      "source": [
        "a = int(input()) \n",
        "if a > 10:\n",
        "  print(\"a is greater than 10\")\n",
        "elif a < 5:\n",
        "  print(\"a is less than 5\")\n",
        "else:\n",
        "  print(\"a is between 5 and 10\")"
      ],
      "metadata": {
        "id": "RBR7WB2p6fcM"
      },
      "execution_count": null,
      "outputs": []
    },
    {
      "cell_type": "markdown",
      "source": [
        "### Nesting if statements:\n",
        "\n",
        "You can put if statments inside of if statments just by indenting carefully:"
      ],
      "metadata": {
        "id": "b8PoKbA_BHTX"
      }
    },
    {
      "cell_type": "code",
      "source": [
        "a = 5\n",
        "b = 6\n",
        "c = 7\n",
        "if c > b:\n",
        "  if c > a:\n",
        "    print(\"C is greatest\")"
      ],
      "metadata": {
        "id": "QQ4SDHxvBS2T"
      },
      "execution_count": null,
      "outputs": []
    },
    {
      "cell_type": "markdown",
      "source": [
        "This is identical to using one if statement in this case:"
      ],
      "metadata": {
        "id": "dSoMb_ehBbud"
      }
    },
    {
      "cell_type": "code",
      "source": [
        "a = 5\n",
        "b = 6\n",
        "c = 7\n",
        "if c > b and c > a\n",
        "    print(\"C is greatest\")"
      ],
      "metadata": {
        "id": "xa0jEg2MBhD0"
      },
      "execution_count": null,
      "outputs": []
    },
    {
      "cell_type": "markdown",
      "source": [
        "Practice: \n",
        "\n",
        "Take in three integers, a, b, and c using input()\n",
        "\n",
        "Print which number is greatest. \n",
        "\n",
        "a b and c will never have equal values with each other:"
      ],
      "metadata": {
        "id": "xjd2FpbzBn-G"
      }
    },
    {
      "cell_type": "code",
      "source": [
        "a = int(input(\"Put in A \"))\n",
        "b = int(input(\"Put in B \"))\n",
        "c = int(input(\"Put in C \"))\n",
        "\n",
        "if a > b:\n",
        "  if a > c:\n",
        "    print(\"A is the greatest\")\n",
        "  elif c > a:\n",
        "    print(\"C is the greatest\")\n",
        "else:\n",
        "  if b > c:\n",
        "    print(\"B is the greatest\")\n",
        "  elif c > b:\n",
        "    print(\"C is the greatest\")"
      ],
      "metadata": {
        "id": "eDgZsIvNB1dD"
      },
      "execution_count": null,
      "outputs": []
    },
    {
      "cell_type": "markdown",
      "source": [
        "## For Loops\n",
        "\n",
        "For loops help repeat code. Here is the syntax for a basic for loop:\n",
        "\n",
        "Pay attention to the integer 10, try changing it to another integer.\n"
      ],
      "metadata": {
        "id": "2pECie367AKn"
      }
    },
    {
      "cell_type": "code",
      "source": [
        "for i in range(10):\n",
        "  print(\"This will print 10 times!\")"
      ],
      "metadata": {
        "id": "4PgchMZ57Io-"
      },
      "execution_count": null,
      "outputs": []
    },
    {
      "cell_type": "markdown",
      "source": [
        "### Parts of a for loop\n",
        "\n",
        "Practice: Using the code above as a reference, change the integers 10 to an integer taken from input(). Make sure you change the print line to print the correct number of times the loop occurred"
      ],
      "metadata": {
        "id": "D2bxLlZ57vPL"
      }
    },
    {
      "cell_type": "code",
      "source": [
        "iterations = int(input())\n",
        "for i in range(iterations):\n",
        "  print(\"This will print \" + str(iterations) + \" times\")"
      ],
      "metadata": {
        "id": "Fi2LjRno7lQX"
      },
      "execution_count": null,
      "outputs": []
    },
    {
      "cell_type": "markdown",
      "source": [
        "The *i* variable stores the number of iterations that have occurred. It starts from 0 and ends at the number put inside range() - 1"
      ],
      "metadata": {
        "id": "8Lw4DPqk8TYB"
      }
    },
    {
      "cell_type": "code",
      "source": [
        "for i in range(10):\n",
        "  print(i)\n",
        "# This will print the numbers 0 through 9 "
      ],
      "metadata": {
        "id": "mXcnwg8v84hw"
      },
      "execution_count": null,
      "outputs": []
    },
    {
      "cell_type": "markdown",
      "source": [
        "Practice: Print the integers from 1 to 10 on individual lines\n",
        "\n",
        "<details>\n",
        "<summary>Here's a Hint:</summary>\n",
        "i is an integer that you can add to inside the loop\n",
        "</details>\n"
      ],
      "metadata": {
        "id": "11XCsxHt_wq5"
      }
    },
    {
      "cell_type": "code",
      "source": [
        "for i in range(10):\n",
        "  print(i + 1)"
      ],
      "metadata": {
        "id": "jYI6Pp_gAI-v"
      },
      "execution_count": null,
      "outputs": []
    },
    {
      "cell_type": "markdown",
      "source": [
        "You can also change the variable name. "
      ],
      "metadata": {
        "id": "gowg977DAkV5"
      }
    },
    {
      "cell_type": "code",
      "source": [
        "for iterations in range(10):\n",
        "  print(iterations * 2 - 1)"
      ],
      "metadata": {
        "id": "5lff9ML-Amta"
      },
      "execution_count": null,
      "outputs": []
    },
    {
      "cell_type": "markdown",
      "source": [
        "Practice: Print the character * 100 times in a vertical line\n",
        "You can only use 2 lines of code"
      ],
      "metadata": {
        "id": "AEokAfYDJ_27"
      }
    },
    {
      "cell_type": "code",
      "source": [
        "for i in range(100):\n",
        "  print(\"*\")"
      ],
      "metadata": {
        "id": "03ugVH0lKW61"
      },
      "execution_count": null,
      "outputs": []
    },
    {
      "cell_type": "markdown",
      "source": [
        "You can affect variables initialized before the for loop:"
      ],
      "metadata": {
        "id": "_3uXBrlaKbHo"
      }
    },
    {
      "cell_type": "code",
      "source": [
        "a = 10\n",
        "for i in range(10):\n",
        "  a += i\n",
        "print(a)"
      ],
      "metadata": {
        "id": "7rGQbCC5Ke7N"
      },
      "execution_count": null,
      "outputs": []
    },
    {
      "cell_type": "markdown",
      "source": [
        "You can do this with strings too:"
      ],
      "metadata": {
        "id": "mp5NT4zwK2cj"
      }
    },
    {
      "cell_type": "code",
      "source": [
        "bruh = \"\"\n",
        "for i in range(10):\n",
        "  bruh += \" bruh \"\n",
        "print(bruh)"
      ],
      "metadata": {
        "id": "nb3PW5-rK8To"
      },
      "execution_count": null,
      "outputs": []
    },
    {
      "cell_type": "markdown",
      "source": [
        "Practice: Print a horizontal line of 's of *n* length. With n being an integer taken from input "
      ],
      "metadata": {
        "id": "6C1kWELSMLDl"
      }
    },
    {
      "cell_type": "code",
      "source": [
        "output = \"\"\n",
        "for i in range(int(input())):\n",
        "  output += \"*\"\n",
        "print(output)"
      ],
      "metadata": {
        "id": "uT64c5iANIGw"
      },
      "execution_count": null,
      "outputs": []
    },
    {
      "cell_type": "markdown",
      "source": [
        "You can use input() inside of a for loop!"
      ],
      "metadata": {
        "id": "gy_8-p4-OweA"
      }
    },
    {
      "cell_type": "code",
      "source": [
        "for i in range(5):\n",
        "  x = int(input(\"Your number:\"))\n",
        "  print(\"Twice your number is: \" + str(x * 2))"
      ],
      "metadata": {
        "id": "0Mfxd7P_Ozpa"
      },
      "execution_count": null,
      "outputs": []
    },
    {
      "cell_type": "markdown",
      "source": [
        "### Range function\n",
        "\n",
        "The range function helps dictate the number of times your function can run, but there is more we can do with it:"
      ],
      "metadata": {
        "id": "CuBbvw0PPXs_"
      }
    },
    {
      "cell_type": "code",
      "source": [
        "for i in range(2, 10):\n",
        "  print(i)"
      ],
      "metadata": {
        "id": "TA-KtOavPeJi"
      },
      "execution_count": null,
      "outputs": []
    },
    {
      "cell_type": "markdown",
      "source": [
        "Remember that range(10) would print the integers 0 to 10, not including 10. \n",
        "\n",
        "When we use two integers, it prints from the first integers to the second integers minus 1 \n",
        "\n",
        "Practice: Print the integers 10 to 20 (including 20) on one line. Remember to cast your integers to string"
      ],
      "metadata": {
        "id": "dA9xOxirPhWV"
      }
    },
    {
      "cell_type": "code",
      "source": [
        "output = \"\"\n",
        "for i in range(10, 21):\n",
        "  output += str(i) + \" \"\n",
        "print(output)"
      ],
      "metadata": {
        "id": "_u-BiQJuQ5n2"
      },
      "execution_count": null,
      "outputs": []
    },
    {
      "cell_type": "markdown",
      "source": [
        "When we use three integers, we change the amount it iterates through"
      ],
      "metadata": {
        "id": "Pz2UCHaCVZD5"
      }
    },
    {
      "cell_type": "code",
      "source": [
        "for i in range(0, 10, 2):\n",
        "  print(i)"
      ],
      "metadata": {
        "id": "S6GLaD0PV1-a"
      },
      "execution_count": null,
      "outputs": []
    },
    {
      "cell_type": "markdown",
      "source": [
        "Practice: Print all the odd numbers from 1 to 100, including 100"
      ],
      "metadata": {
        "id": "B8YcRZGFV47j"
      }
    },
    {
      "cell_type": "code",
      "source": [
        "for i in range(1, 100, 2):\n",
        "  print(i)"
      ],
      "metadata": {
        "id": "KwUXQOGYWAPV"
      },
      "execution_count": null,
      "outputs": []
    },
    {
      "cell_type": "markdown",
      "source": [
        "Practice: Print the integers from 10 to 1 in descending order:"
      ],
      "metadata": {
        "id": "SsobAZUdWFcc"
      }
    },
    {
      "cell_type": "code",
      "source": [
        "for i in range(10, 0, -1):\n",
        "  print(i)"
      ],
      "metadata": {
        "id": "Hu0uIdbTWqDK"
      },
      "execution_count": null,
      "outputs": []
    },
    {
      "cell_type": "markdown",
      "source": [
        "### Nested for loops\n",
        "\n",
        "You can run loops inside other loops, the syntax is what you may expect.\n",
        "\n",
        "Make sure the variables you use in the loops are different."
      ],
      "metadata": {
        "id": "_fKOlIBWNRPQ"
      }
    },
    {
      "cell_type": "code",
      "source": [
        "size = int(input())\n",
        "for y in range(size):\n",
        "  output = \"\"\n",
        "  for x in range(size):\n",
        "    output += \"*\"\n",
        "  print(output)"
      ],
      "metadata": {
        "id": "Lc2HWDLANcHL"
      },
      "execution_count": null,
      "outputs": []
    },
    {
      "cell_type": "markdown",
      "source": [
        "Practice: Try to achieve the same result with two for loops that are NOT inside each other\n",
        "\n",
        "<details>\n",
        "<summary>Hint:</summary>\n",
        "The line you print is the same every time, so if you have the line you print saved to a variable you can reuse that variable\n",
        "</details>"
      ],
      "metadata": {
        "id": "EcON_8PAN2_H"
      }
    },
    {
      "cell_type": "code",
      "source": [
        "size = int(input())\n",
        "output = \"\"\n",
        "for x in range(size):\n",
        "  output += \"*\"\n",
        "for y in range(size):\n",
        "  print(output)"
      ],
      "metadata": {
        "id": "TUZYNJtRN_W4"
      },
      "execution_count": null,
      "outputs": []
    },
    {
      "cell_type": "markdown",
      "source": [
        "Practice \n",
        "\n",
        "Taking in an integer for length try to draw the following shapes:\n",
        "\n",
        "```\n",
        "****\n",
        "****\n",
        "****\n",
        "****\n",
        "\n",
        "*\n",
        "**\n",
        "***\n",
        "****\n",
        "\n",
        "   *\n",
        "  **\n",
        " ***\n",
        "****\n",
        "\n",
        "   *\n",
        "  ***\n",
        " *****\n",
        "*******\n",
        "```"
      ],
      "metadata": {
        "id": "DLFW77lxYfgj"
      }
    },
    {
      "cell_type": "code",
      "source": [
        "length = int(input())\n",
        "\n",
        "output = \"\"\n",
        "for x in range(length):\n",
        "  output += \"*\"\n",
        "for y in range(length):\n",
        "  print(output)\n",
        "\n",
        "print()\n",
        "\n",
        "for i in range(length):\n",
        "  output = \"\"\n",
        "  for x in range(i+1):\n",
        "    output += \"*\"\n",
        "  print(output)\n",
        "\n",
        "print()\n",
        "\n",
        "for i in range(length):\n",
        "  output = \"\"\n",
        "  for x in range(length - (i + 1)):\n",
        "    output += \" \"\n",
        "  for x in range(i+1):\n",
        "    output += \"*\"\n",
        "  print(output)\n",
        "\n",
        "print()\n",
        "\n",
        "for i in range(length):\n",
        "  output = \"\"\n",
        "  for x in range(length - (i + 1)):\n",
        "    output += \" \"\n",
        "  for x in range(i*2+1):\n",
        "    output += \"*\"\n",
        "  print(output)"
      ],
      "metadata": {
        "id": "GLMTXeAPm7YM"
      },
      "execution_count": null,
      "outputs": []
    }
  ]
}